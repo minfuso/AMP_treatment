{
 "cells": [
  {
   "cell_type": "markdown",
   "metadata": {},
   "source": [
    "# `launch` tutorial\n",
    "\n",
    "Welcome in the `launch` module tutorial/example. Here, we will \n",
    "show how to use the `launch` module to generate an `amp-atomistics` launching script using the `launch` module.\n",
    "\n",
    "We need to load all the packages, including the `launch` module. "
   ]
  },
  {
   "cell_type": "markdown",
   "metadata": {},
   "source": [
    "## Loading modules"
   ]
  },
  {
   "cell_type": "code",
   "execution_count": null,
   "metadata": {},
   "outputs": [],
   "source": [
    "from amppcmt.launch import Launch"
   ]
  },
  {
   "cell_type": "markdown",
   "metadata": {},
   "source": [
    "## Building the `Launch` object\n",
    "\n",
    "The `Launch` object is a Class containning all the necessary information to corectly launch or relaunch calculations. We will use the `CO_disso.traj` file for demonstration. We will use two hidden layers composed by 10 neurones each. We are training only on the energies and not on the forces, with only a criteria on the rmse of the energies. The generated script should be name `test_first_calc.py`."
   ]
  },
  {
   "cell_type": "code",
   "execution_count": null,
   "metadata": {},
   "outputs": [],
   "source": [
    "test = Launch(\n",
    "    traj_name = 'CO_disso_traj', # Name of the trajectory file\n",
    "    hiddenlayers = (10, 10), # Number of hiddenlayers and neurones\n",
    "    checkpoints = -100, # Checkpoint frequency\n",
    "    forces = False, # Force training?\n",
    "    initial_calc = True, # Initial or relaunching a calculation?\n",
    "    convergence_parameters = { # All the parameters for convergencee\n",
    "        'energy_rmse':0.001,\n",
    "        'force_rmse': None,\n",
    "        'energy_maxresid': None,\n",
    "        'force_maxresid': None\n",
    "    },\n",
    "    filename = 'test_first_calc.py', # Name of the python amp launch file\n",
    "    test = True # Put it to true to not launch the calculation (testing)\n",
    "    )"
   ]
  },
  {
   "cell_type": "markdown",
   "metadata": {},
   "source": [
    "## Generate the script\n",
    "\n",
    "Now that the class object is set, we can generate the python script using the `generate_input` method from the `launch` module."
   ]
  },
  {
   "cell_type": "code",
   "execution_count": null,
   "metadata": {},
   "outputs": [],
   "source": [
    "test.generate_input()"
   ]
  },
  {
   "cell_type": "markdown",
   "metadata": {},
   "source": [
    "The file `test_first_calc.py` is now generated. If you try to launch it (`test` is set to `True`, then no calculation will be launched) you will have all the information about your job printed on the terminal"
   ]
  },
  {
   "cell_type": "code",
   "execution_count": null,
   "metadata": {},
   "outputs": [],
   "source": [
    "%run test_first_calc.py"
   ]
  },
  {
   "cell_type": "markdown",
   "metadata": {},
   "source": [
    "## Relaunch a calculation\n",
    "\n",
    "Let's imagine that we want to relaunch a calculation from the `CO_disso.traj` file using the `amp-untrained-parameters.amp` parameters. In this case, the argument `amp_param` has to be set with the name of your parameter file, and set the `initial_calc` parameter to `False`:"
   ]
  },
  {
   "cell_type": "code",
   "execution_count": null,
   "metadata": {},
   "outputs": [],
   "source": [
    "test_relaunch = Launch(\n",
    "    traj_name = 'CO_disso_traj', # Name of the trajectory file\n",
    "    amp_param = 'amp-untrained-parameters.amp', # Name of the amp parameters file\n",
    "    hiddenlayers = (10, 10), # Number of hiddenlayers and neurones\n",
    "    checkpoints = -100, # Checkpoint frequency\n",
    "    forces = False, # Force training?\n",
    "    initial_calc = False, # Initial (true) or relaunching a calculation (False)?\n",
    "    convergence_parameters = { # All the parameters for convergencee\n",
    "        'energy_rmse':0.001,\n",
    "        'force_rmse': None,\n",
    "        'energy_maxresid': None,\n",
    "        'force_maxresid': None\n",
    "    },\n",
    "    filename = 'test_second_calc.py', # Name of the python amp launch file\n",
    "    test = True # Put it to true to not launch the calculation (testing)\n",
    "    )\n",
    "\n",
    "test_relaunch.generate_input()"
   ]
  },
  {
   "cell_type": "markdown",
   "metadata": {},
   "source": [
    "Now, when the new `test_second_calc.py` is launched, we can see the differences in the terminal:"
   ]
  },
  {
   "cell_type": "code",
   "execution_count": null,
   "metadata": {},
   "outputs": [],
   "source": [
    "%run test_second_calc.py"
   ]
  },
  {
   "cell_type": "markdown",
   "metadata": {},
   "source": [
    "We are down with this example, hopping that you enjoyed it. For further information, please refer to the online documentation.\n",
    "\n",
    "> This module is under development, please refer to the 'In development' page from the documentation to have more details"
   ]
  },
  {
   "cell_type": "markdown",
   "metadata": {},
   "source": [
    "## Warning\n",
    "\n",
    "This module is developped to work with `PBS` only. Indeed, if `test` is set to `False`, an additional argument called `PARALLEL` is written to the calculation. This word is needed when launching on PBS super computers, correlated with the PBS script available in this code. For testing, the `PARALLEL` word is not written, in order to make the tests run on local computers as well. A futur implementation with `slurm` is planned."
   ]
  }
 ],
 "metadata": {
  "kernelspec": {
   "display_name": ".env",
   "language": "python",
   "name": "python3"
  },
  "language_info": {
   "codemirror_mode": {
    "name": "ipython",
    "version": 3
   },
   "file_extension": ".py",
   "mimetype": "text/x-python",
   "name": "python",
   "nbconvert_exporter": "python",
   "pygments_lexer": "ipython3",
   "version": "3.7.13"
  }
 },
 "nbformat": 4,
 "nbformat_minor": 2
}
