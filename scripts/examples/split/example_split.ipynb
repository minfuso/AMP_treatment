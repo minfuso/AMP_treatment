{
 "cells": [
  {
   "cell_type": "markdown",
   "metadata": {},
   "source": [
    "# `split` tutorial\n",
    "\n",
    "Welcome in the `split` module tutorial/example. Here, we will \n",
    "show how to use the `split` module to generate a training and\n",
    "a testing set.\n",
    "\n",
    "We need to load all the packages, including the `split` module. "
   ]
  },
  {
   "cell_type": "markdown",
   "metadata": {},
   "source": [
    "## Loading modules\n",
    "\n",
    "Here, we need the significant module allowing to load `split` and use properly (optional)."
   ]
  },
  {
   "cell_type": "code",
   "execution_count": null,
   "metadata": {},
   "outputs": [],
   "source": [
    "import sys\n",
    "import os\n",
    "from pprint import pprint as pp # For pretty printing, optional"
   ]
  },
  {
   "cell_type": "markdown",
   "metadata": {},
   "source": [
    "Now, we need to load the `split` module."
   ]
  },
  {
   "cell_type": "code",
   "execution_count": null,
   "metadata": {},
   "outputs": [],
   "source": [
    "from amppcmt.split import Train_test_split"
   ]
  },
  {
   "cell_type": "markdown",
   "metadata": {},
   "source": [
    "## Building the `Train_test_split` object\n",
    "\n",
    "We need to build the `Train_test_split` object. In this example, we will use the variable `trajectory` to store the class. We will use the `CO_disso.traj` for demonstration. We will also use the default values for splitting: 75% of the trajectory for the training set and 25% of the trajectory for the testing set. We can set this percentage using the optional argument `training_set_percentage`."
   ]
  },
  {
   "cell_type": "code",
   "execution_count": null,
   "metadata": {},
   "outputs": [],
   "source": [
    "trajectory = Train_test_split(\n",
    "    trajectory = 'CO_disso.traj',\n",
    "    training_set_percentage = 0.75\n",
    ")"
   ]
  },
  {
   "cell_type": "markdown",
   "metadata": {},
   "source": [
    "## Split the trajectory\n",
    "\n",
    "### Randomly\n",
    "\n",
    "The initial trajectory can be then splitted randomly using the `split_sets_random()` from the `Train_test_split` class."
   ]
  },
  {
   "cell_type": "code",
   "execution_count": null,
   "metadata": {},
   "outputs": [],
   "source": [
    "trajectory.split_sets_random()"
   ]
  },
  {
   "cell_type": "markdown",
   "metadata": {},
   "source": [
    "### Sequentially (time-splitting)\n",
    "\n",
    "This method is more suited if data comes from *ab initio* molecular dynamics simulations. Indeed, it avoids that data present in the training and in the testing set to be similar. Such a similarity can lead to a pollution of the testing dataset, and create artefacts in the results.\n",
    "\n",
    "Time-splitting is done using the `split_set_time()` from the `Train_test_split` class."
   ]
  },
  {
   "cell_type": "code",
   "execution_count": null,
   "metadata": {},
   "outputs": [],
   "source": [
    "trajectory.split_sets_time()"
   ]
  },
  {
   "cell_type": "markdown",
   "metadata": {},
   "source": [
    "Three files were generated:\n",
    "\n",
    "- `CO_disso_train.traj`:\n",
    "    Containing the data for the training set\n",
    "- `CO_disso_test.traj`:\n",
    "    Containing the data for the testing set\n",
    "- `amp_split.log`:\n",
    "    Logfile containing the information about the treatment\n",
    "\n",
    "We are now down for the use of this module., hooping that you enjoyed it.\n",
    "\n",
    "> This module is under development, please refer to the 'In development' page from the documentation to have more details"
   ]
  }
 ],
 "metadata": {
  "kernelspec": {
   "display_name": ".env",
   "language": "python",
   "name": "python3"
  },
  "language_info": {
   "codemirror_mode": {
    "name": "ipython",
    "version": 3
   },
   "file_extension": ".py",
   "mimetype": "text/x-python",
   "name": "python",
   "nbconvert_exporter": "python",
   "pygments_lexer": "ipython3",
   "version": "3.7.13"
  }
 },
 "nbformat": 4,
 "nbformat_minor": 2
}
