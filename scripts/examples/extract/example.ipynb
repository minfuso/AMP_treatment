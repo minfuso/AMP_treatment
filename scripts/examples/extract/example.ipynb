{
 "cells": [
  {
   "cell_type": "markdown",
   "metadata": {},
   "source": [
    "# `extract` module tutorial\n",
    "\n",
    "Welcome in the `extract` module tutorial/example. Here, we will show how to use the `extract` script to generatedata for the testing step.\n",
    "\n",
    "We need to load all the packages, including the `extract` one."
   ]
  },
  {
   "cell_type": "markdown",
   "metadata": {},
   "source": [
    "## Loading modules\n",
    "\n",
    "Here, we need the significant module allowing to load the `extract` module properly"
   ]
  },
  {
   "cell_type": "code",
   "execution_count": null,
   "metadata": {},
   "outputs": [],
   "source": [
    "import sys\n",
    "import os\n",
    "from pprint import pprint as pp # For pretty printing, optional"
   ]
  },
  {
   "cell_type": "markdown",
   "metadata": {},
   "source": [
    "Now, we can import the `amppcmt` module. Be sure to have it installed in your environment."
   ]
  },
  {
   "cell_type": "code",
   "execution_count": null,
   "metadata": {},
   "outputs": [],
   "source": [
    "from amppcmt.extract import Calc"
   ]
  },
  {
   "cell_type": "markdown",
   "metadata": {},
   "source": [
    "## Setting constants\n",
    "\n",
    "Constans in python are usually written in Maj/snake_case style. This step is optional, as it simplifies the way we will build the `Calc` object later. For each of the arguments asked by `Calc`, some are mandatory on others optional.\n",
    "\n",
    "**Mandatory**\n",
    "\n",
    "- `AMP_FILENAME`: The name of the amp neural network parameters\n",
    "\n",
    "- `TRAJ_FILENAME`: The reference traj file\n",
    "\n",
    "- `GENERATED_TRAJ_FILENAME`: The list of positions for which we want a predicition\n",
    "\n",
    "**Optional**\n",
    "\n",
    "- `AMP_ENERGIES_OUTFILENAME`: The name of the file containing predicted energies by the amp neural network.\n",
    "\n",
    "- `AMP_FORCES_OUTFILENAME`: The name of the file containing predicted forces by the amp neural network.\n",
    "\n",
    "- `SRC_ENERGIES_OUTFILENAME`: The name of the file containing reference energies previously calculated.\n",
    "\n",
    "- `SRC_FORCES_OUTFILENAME`: The name of the file containing reference forces previously calculated."
   ]
  },
  {
   "cell_type": "code",
   "execution_count": null,
   "metadata": {},
   "outputs": [],
   "source": [
    "# Constants\n",
    "AMP_FILENAME = 'amp.amp'\n",
    "TRAJ_FILENAME = 'CO_disso.traj'\n",
    "GENERATED_TRAJ_FILENAME = 'CO_disso_test.traj'\n",
    "AMP_ENERGIES_OUTFILENAME = 'amp_energies.dat'\n",
    "AMP_FORCES_OUTFILENAME = 'amp_forces.dat'\n",
    "SRC_ENERGIES_OUTFILENAME ='src_energies.dat'\n",
    "SRC_FORCES_OUTFILENAME = 'src_forces.dat'"
   ]
  },
  {
   "cell_type": "markdown",
   "metadata": {},
   "source": [
    "## Building the `Calc` object\n",
    "\n",
    "the next step is to build the `Calc` object. In this example, we will store it in the variable `data`. Because all the constants were setted before, we can just use them. You can also defined all the `Calc` arguments on the fly."
   ]
  },
  {
   "cell_type": "code",
   "execution_count": null,
   "metadata": {},
   "outputs": [],
   "source": [
    "# Load the data into the Calc class\n",
    "data = Calc(\n",
    "        amp_filename = AMP_FILENAME,\n",
    "        traj_filename = TRAJ_FILENAME,\n",
    "        generated_traj_filename = GENERATED_TRAJ_FILENAME,\n",
    "        amp_energies_outfilename = AMP_ENERGIES_OUTFILENAME,\n",
    "        amp_forces_outfilename = AMP_FORCES_OUTFILENAME,\n",
    "        src_energies_outfilename = SRC_ENERGIES_OUTFILENAME,\n",
    "        src_forces_outfilename = SRC_FORCES_OUTFILENAME \n",
    "    )"
   ]
  },
  {
   "cell_type": "markdown",
   "metadata": {},
   "source": [
    "## Data extraction/prediction\n",
    "\n",
    "We can now extract the data from the reference files and make some predictions using our `amp` neural network. To do so, the `Calc` object is using the method `extract_data`. Note that this method do not return anything, and compute or extract properties inside the `Calc` object.\n",
    "\n",
    "Let extract all the data."
   ]
  },
  {
   "cell_type": "code",
   "execution_count": null,
   "metadata": {},
   "outputs": [],
   "source": [
    "data.extract_data() #  extract the data"
   ]
  },
  {
   "cell_type": "markdown",
   "metadata": {},
   "source": [
    "As you can see, we obtain no output. Nevertheless, we can access the data through class attributes as shown below. "
   ]
  },
  {
   "cell_type": "code",
   "execution_count": null,
   "metadata": {},
   "outputs": [],
   "source": [
    "# Now, we can access reference data as:\n",
    "src_forces = data.src_forces\n",
    "src_energies = data.src_energies\n",
    "\n",
    "print('SRC data\\n')\n",
    "pp(src_forces[0:2]) # Print the forces for the 2 first geometries\n",
    "print(*src_energies[0:2], sep='\\n') # Print the 2 reference energies\n",
    "\n",
    "print('\\n-----\\n')\n",
    "\n",
    "# Now, we can access amp predicted data as:\n",
    "amp_forces = data.amp_forces\n",
    "amp_energies = data.amp_energies\n",
    "\n",
    "print('AMP data\\n')\n",
    "pp(amp_forces[0:2]) # Print the forces for the 2 first geometries\n",
    "print(*amp_energies[0:2], sep='\\n') # Print the 2 reference energies"
   ]
  },
  {
   "cell_type": "markdown",
   "metadata": {},
   "source": [
    "Note that the data are just rendered and saved as `list` objects and not written in any file."
   ]
  },
  {
   "cell_type": "markdown",
   "metadata": {},
   "source": [
    "## Write the data\n",
    "\n",
    "Once the data extracted/generated, we can now write the results in the `aeneth` data format. To do so, we will use the `write_all_data` attributes to write all the data at the same time."
   ]
  },
  {
   "cell_type": "code",
   "execution_count": null,
   "metadata": {},
   "outputs": [],
   "source": [
    "# We can also write all the results\n",
    "\n",
    "data.write_all_data()"
   ]
  },
  {
   "cell_type": "markdown",
   "metadata": {},
   "source": [
    "Note that you can only write partially the data to save time. For example, if I want to write only the predicted energies by the `amp` neural network, I can use:"
   ]
  },
  {
   "cell_type": "code",
   "execution_count": null,
   "metadata": {},
   "outputs": [],
   "source": [
    "# Write only amp_energies\n",
    "\n",
    "data.write_energies(which='amp')"
   ]
  },
  {
   "cell_type": "markdown",
   "metadata": {},
   "source": [
    "Within the same logics, I can only write the reference forces by using:"
   ]
  },
  {
   "cell_type": "code",
   "execution_count": null,
   "metadata": {},
   "outputs": [],
   "source": [
    "# Write only reference forces\n",
    "\n",
    "data.write_forces(which='src')"
   ]
  },
  {
   "cell_type": "markdown",
   "metadata": {},
   "source": [
    "## Predict: doing all the steps in one line\n",
    "\n",
    "If you want to be quicker, the `Calc` object allows you to extract, predict, and write all the data in one line. It is the `predict` method. Basically, it uses sequentially the `extract_data` method followed by the `write_all_data` method. Let try this method:"
   ]
  },
  {
   "cell_type": "code",
   "execution_count": null,
   "metadata": {},
   "outputs": [],
   "source": [
    "# Do all the previous steps as once:\n",
    "\n",
    "data.predict()"
   ]
  },
  {
   "cell_type": "markdown",
   "metadata": {},
   "source": [
    "## Cleanning unwanted `amp` databases"
   ]
  },
  {
   "cell_type": "markdown",
   "metadata": {},
   "source": [
    "When using `amp` neural network, it seems that the `amp-atomistics` package create `amp` databases with the extension `.ampdb`. Without knowing more, we guess that those databases are mandatory to use the neural network. In addition, it recreates the log file from the `amp` training. However, we generally do not want to store them. \n",
    "\n",
    "To delete them after having done your predictions, you can use the `clean` method from the `Calc` object. As an optional arguement, you can also decides to delete the log file as well."
   ]
  },
  {
   "cell_type": "code",
   "execution_count": null,
   "metadata": {},
   "outputs": [],
   "source": [
    "# Cleanning\n",
    "\n",
    "data.clean(logfile=True)"
   ]
  },
  {
   "cell_type": "markdown",
   "metadata": {},
   "source": [
    "Now, you should not have any `amp` databases in your folder."
   ]
  },
  {
   "cell_type": "markdown",
   "metadata": {},
   "source": [
    "We are done, I hope you'll enjoy this module.\n",
    "\n",
    "> This module is under development, please refer to the 'In development' page from the documentation to have more details"
   ]
  }
 ],
 "metadata": {
  "kernelspec": {
   "display_name": ".env",
   "language": "python",
   "name": "python3"
  },
  "language_info": {
   "codemirror_mode": {
    "name": "ipython",
    "version": 3
   },
   "file_extension": ".py",
   "mimetype": "text/x-python",
   "name": "python",
   "nbconvert_exporter": "python",
   "pygments_lexer": "ipython3",
   "version": "3.7.13"
  }
 },
 "nbformat": 4,
 "nbformat_minor": 2
}
